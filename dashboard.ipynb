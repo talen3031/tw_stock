{
 "cells": [
  {
   "cell_type": "code",
   "execution_count": 1,
   "metadata": {
    "scrolled": true
   },
   "outputs": [
    {
     "name": "stdout",
     "output_type": "stream",
     "text": [
      "每日股價最新日期(上市): 2022-03-31 00:00:00\n",
      "每日股價最新日期(上櫃): 2022-03-31 00:00:00\n",
      "每日股價最新日期(三大法人): 2022-03-31 00:00:00\n"
     ]
    }
   ],
   "source": [
    "from stock.tw_stock import tw_stock\n",
    "from stock.update_data import update_data\n",
    "from stock.plot import plot\n",
    "from stock.strategy import 選股模式一,雙重金死叉策略,dmi策略,bbi策略,漲幅大於,外陸資連三買超股數,投信連三買超股數\n",
    "import datetime ,sqlite3\n",
    "import pandas as pd\n",
    "import time\n",
    "from io import StringIO\n",
    "import numpy as np\n",
    "tw_stock=tw_stock()\n",
    "update_data=update_data()\n",
    "plot=plot()\n",
    "#update_data.更新_每日股價()"
   ]
  },
  {
   "cell_type": "code",
   "execution_count": null,
   "metadata": {},
   "outputs": [],
   "source": [
    "#prepare data............................................................................................\n",
    "date_today=datetime.datetime(2022,3,30)\n",
    "date_1years_ago=date_today-datetime.timedelta(days=500)\n",
    "#-------------------------------------------------------------------------------------------------------\n",
    "close=tw_stock.get(\"close\",date_1years_ago,date_today)\n",
    "high=tw_stock.get(\"high\",date_1years_ago,date_today)\n",
    "open_=tw_stock.get(\"open\",date_1years_ago,date_today)\n",
    "low=tw_stock.get(\"open\",date_1years_ago,date_today)\n",
    "volume=tw_stock.get(\"volume\",date_1years_ago,date_today)\n",
    "SMA_20=tw_stock.get_均線('SMA',close,20)\n",
    "SMA_5_volume=tw_stock.get_均線('SMA',volume,5)\n",
    "三大法人買賣超=tw_stock.get(\"三大法人買賣超股數\",date_today)\n",
    "投信買賣超=tw_stock.get(\"投信買賣超股數\",date_today)\n",
    "外陸資買賣超=tw_stock.get(\"外陸資買賣超股數_不含外資自營商\",date_today)\n",
    "#-------------------------------------------------------------------------------------------------------\n",
    "dfk,dfd=tw_stock.get_technical_index(\"KD\",close,open_,high,low,volume)\n",
    "macd,macdsignal,macdhist=tw_stock.get_technical_index(\"MACD\",close,open_,high,low,volume)\n",
    "#-------------------------------------------------------------------------------------------------------\n",
    "OBV=tw_stock.get_technical_index(\"OBV\",close,open_,high,low,volume)\n",
    "obv_ema=tw_stock.get_均線(\"SMA\",OBV,均線_天數=144)\n",
    "EMA_144=tw_stock.get_均線(\"EMA\",close,均線_天數=144)\n",
    "MINUS_DI=tw_stock.get_technical_index(\"MINUS_DI\",close,open_,high,low,volume)\n",
    "PLUS_DI=tw_stock.get_technical_index(\"PLUS_DI\",close,open_,high,low,volume)\n",
    "ADX=tw_stock.get_technical_index(\"ADX\",close,open_,high,low,volume)\n",
    "#-------------------------------------------------------------------------------------------------------\n",
    "EMA_8=tw_stock.get_均線(\"EMA\",close,均線_天數=8)\n",
    "EMA_13=tw_stock.get_均線(\"EMA\",close,均線_天數=13)\n",
    "EMA_21=tw_stock.get_均線(\"EMA\",close,均線_天數=21)\n",
    "EMA_34=tw_stock.get_均線(\"EMA\",close,均線_天數=34)\n",
    "EMA_55=tw_stock.get_均線(\"EMA\",close,均線_天數=55)\n",
    "EMA_89=tw_stock.get_均線(\"EMA\",close,均線_天數=89)\n",
    "EMA_144=tw_stock.get_均線(\"EMA\",close,均線_天數=144)\n",
    "EMA_233=tw_stock.get_均線(\"EMA\",close,均線_天數=233)\n",
    "bbi短均線=(EMA_8+EMA_13+EMA_21+EMA_34)/4\n",
    "bbi長均線=(EMA_55+EMA_89+EMA_144+EMA_233)/4\n",
    "print(\"db current date:\",close.iloc[-1].name)"
   ]
  },
  {
   "cell_type": "code",
   "execution_count": null,
   "metadata": {
    "scrolled": true
   },
   "outputs": [],
   "source": [
    "#近2周符合選股模式一的股票\n",
    "選股模式一_stocks_list={}\n",
    "for x in range(-1,-15,-1):\n",
    "    選股模式一_stocks=選股模式一(close,open_,high,volume,SMA_20,SMA_5_volume,三大法人買賣超,x)\n",
    "    選股模式一_stocks_list[x]=選股模式一_stocks"
   ]
  },
  {
   "cell_type": "code",
   "execution_count": null,
   "metadata": {},
   "outputs": [],
   "source": [
    "date_plot=date_today-datetime.timedelta(days=30)\n",
    "for s in 選股模式一_stocks_list[-8]['stocks']: \n",
    "     plot.price_and_volume_plot(s,date_plot,date_today,SMA_days=[5,10,20,60])"
   ]
  },
  {
   "cell_type": "code",
   "execution_count": null,
   "metadata": {},
   "outputs": [],
   "source": [
    "#技術線圖\n",
    "plot.Technical_index_plot('2915',date_plot)"
   ]
  },
  {
   "cell_type": "code",
   "execution_count": null,
   "metadata": {},
   "outputs": [],
   "source": [
    "#選股模式一 testing................\n",
    "test_stocks=選股模式一(close,open_,high,volume,SMA_20,SMA_5_volume,三大法人買賣超,x=-7)\n",
    "def 買入(open_df,close_df,st):\n",
    "    stocks=st['stocks']\n",
    "    date=st['date'].date()\n",
    "    stock_list=[]\n",
    "    \n",
    "    if date.weekday()==4:\n",
    "        date_買入=(date+datetime.timedelta(days=3)).strftime(\"%Y-%m-%d\")\n",
    "    else:\n",
    "        date_買入=(date+datetime.timedelta(days=1)).strftime(\"%Y-%m-%d\")\n",
    "    if date_today.hour>=14:\n",
    "        date_今日=date_today.strftime(\"%Y-%m-%d\")\n",
    "        if date_today.weekday()==5:\n",
    "            date_今日=(date_today-datetime.timedelta(days=1)).strftime(\"%Y-%m-%d\")\n",
    "        if date_today.weekday()==6:\n",
    "            date_今日=(date_today-datetime.timedelta(days=2)).strftime(\"%Y-%m-%d\")\n",
    "    else:\n",
    "        date_今日=(date_today-datetime.timedelta(days=1)).strftime(\"%Y-%m-%d\")\n",
    "    for stock in stocks:\n",
    "        stockdic={}\n",
    "        stockdic['stock id']=stock\n",
    "        stockdic[f'買入開盤價 {date_買入}']=open_df[stock][date_買入]\n",
    "        stockdic[f'收盤價 {date_今日}']=close_df[stock][date_今日]\n",
    "        stockdic['差價']=close_df[stock][date_今日]-open_df[stock][date_買入]\n",
    "        stockdic['漲幅/跌幅']=str(round((close_df[stock][date_今日]-open_df[stock][date_買入])/open_df[stock][date_買入]*100,2))+\"%\"\n",
    "        stock_list.append(stockdic)\n",
    "    return pd.DataFrame(stock_list)    \n",
    "s=買入(open_,close,test_stocks)\n",
    "s"
   ]
  },
  {
   "cell_type": "code",
   "execution_count": null,
   "metadata": {},
   "outputs": [],
   "source": [
    "#其他選股策略............................................................\n",
    "dmi策略_stocks=dmi策略(close,low,OBV,obv_ema,EMA_144,MINUS_DI,PLUS_DI,ADX,x=-2)\n",
    "雙重金死叉策略_stocks=雙重金死叉策略(close,dfk,dfd,macd,macdsignal,x=-2)\n",
    "bbi策略_stocks=bbi策略(close, bbi短均線,bbi長均線,high, low, SMA_5_volume, SMA_20,x=-2)\n"
   ]
  }
 ],
 "metadata": {
  "kernelspec": {
   "display_name": "base",
   "language": "python",
   "name": "python3"
  },
  "language_info": {
   "codemirror_mode": {
    "name": "ipython",
    "version": 3
   },
   "file_extension": ".py",
   "mimetype": "text/x-python",
   "name": "python",
   "nbconvert_exporter": "python",
   "pygments_lexer": "ipython3",
   "version": "3.8.5"
  }
 },
 "nbformat": 4,
 "nbformat_minor": 4
}
