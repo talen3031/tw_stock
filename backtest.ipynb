{
 "cells": [
  {
   "cell_type": "markdown",
   "id": "acee15cc",
   "metadata": {},
   "source": []
  },
  {
   "cell_type": "code",
   "execution_count": null,
   "id": "22caaacc",
   "metadata": {},
   "outputs": [
    {
     "name": "stdout",
     "output_type": "stream",
     "text": [
      "每日股價最新日期(上市): 2022-03-31 00:00:00\n",
      "每日股價最新日期(上櫃): 2022-03-31 00:00:00\n",
      "每日股價最新日期(三大法人): 2022-03-31 00:00:00\n"
     ]
    }
   ],
   "source": [
    "from stock.tw_stock import tw_stock\n",
    "from stock.update_data import update_data\n",
    "from stock.plot import plot\n",
    "from stock.strategy import 選股模式一,雙重金死叉策略,dmi策略,bbi策略,漲幅大於,外陸資連三買超股數,投信連三買超股數\n",
    "import datetime ,sqlite3\n",
    "import pandas as pd\n",
    "from io import StringIO\n",
    "import numpy as np\n",
    "update_data=update_data()\n",
    "plot=plot()"
   ]
  },
  {
   "cell_type": "code",
   "execution_count": 3,
   "id": "42744675",
   "metadata": {},
   "outputs": [
    {
     "ename": "TypeError",
     "evalue": "'tw_stock' object is not callable",
     "output_type": "error",
     "traceback": [
      "\u001b[1;31m---------------------------------------------------------------------------\u001b[0m",
      "\u001b[1;31mTypeError\u001b[0m                                 Traceback (most recent call last)",
      "\u001b[1;32m<ipython-input-3-3dd079528322>\u001b[0m in \u001b[0;36m<module>\u001b[1;34m\u001b[0m\n\u001b[1;32m----> 1\u001b[1;33m \u001b[0mtw\u001b[0m \u001b[1;33m=\u001b[0m \u001b[0mtw_stock\u001b[0m\u001b[1;33m(\u001b[0m\u001b[1;33m)\u001b[0m\u001b[1;33m\u001b[0m\u001b[1;33m\u001b[0m\u001b[0m\n\u001b[0m\u001b[0;32m      2\u001b[0m \u001b[1;33m\u001b[0m\u001b[0m\n\u001b[0;32m      3\u001b[0m \u001b[0mstart\u001b[0m \u001b[1;33m=\u001b[0m \u001b[0mdatetime\u001b[0m\u001b[1;33m.\u001b[0m\u001b[0mdatetime\u001b[0m\u001b[1;33m(\u001b[0m\u001b[1;36m2020\u001b[0m\u001b[1;33m,\u001b[0m \u001b[1;36m3\u001b[0m\u001b[1;33m,\u001b[0m \u001b[1;36m15\u001b[0m\u001b[1;33m)\u001b[0m\u001b[1;33m\u001b[0m\u001b[1;33m\u001b[0m\u001b[0m\n\u001b[0;32m      4\u001b[0m \u001b[0mend\u001b[0m \u001b[1;33m=\u001b[0m \u001b[0mdatetime\u001b[0m\u001b[1;33m.\u001b[0m\u001b[0mdatetime\u001b[0m\u001b[1;33m(\u001b[0m\u001b[1;36m2022\u001b[0m\u001b[1;33m,\u001b[0m \u001b[1;36m3\u001b[0m\u001b[1;33m,\u001b[0m \u001b[1;36m1\u001b[0m\u001b[1;33m)\u001b[0m\u001b[1;33m\u001b[0m\u001b[1;33m\u001b[0m\u001b[0m\n\u001b[0;32m      5\u001b[0m \u001b[1;33m\u001b[0m\u001b[0m\n",
      "\u001b[1;31mTypeError\u001b[0m: 'tw_stock' object is not callable"
     ]
    }
   ],
   "source": [
    "tw = tw_stock()\n",
    "\n",
    "start = datetime.datetime(2020, 3, 15)\n",
    "end = datetime.datetime(2022, 3, 1)\n",
    "\n",
    "close = tw.get(\"close\", start, end)\n",
    "open_ = tw.get(\"open\", start, end)\n",
    "high = tw.get(\"high\", start, end)\n",
    "low = tw.get(\"low\", start, end)\n",
    "volume = tw.get(\"volume\", start, end)\n",
    "法人 = tw.get(\"三大法人買賣超股數\", start, end)\n",
    "\n",
    "SMA5 = tw.get_均線(\"SMA\", close, 5)\n",
    "量5 = tw.get_均線(\"SMA\", volume, 5)\n",
    "量20 = tw.get_均線(\"SMA\", volume, 20)\n",
    "EMA144 = tw.get_均線(\"EMA\", close, 144)\n",
    "bbi短 = (tw.get_均線(\"SMA\", close, 8) + tw.get_均線(\"SMA\", close, 13) + tw.get_均線(\"SMA\", close, 21) + tw.get_均線(\"SMA\", close, 34)) / 4\n",
    "bbi長 = (tw.get_均線(\"SMA\", close, 55) + tw.get_均線(\"SMA\", close, 89) + tw.get_均線(\"SMA\", close, 144) + tw.get_均線(\"SMA\", close, 233)) / 4\n",
    "\n",
    "K, D = tw.get_technical_index(\"KD\", close, open_, high, low, volume)\n",
    "快MACD, 慢MACD, _ = tw.get_technical_index(\"MACD\", close, open_, high, low, volume)\n",
    "OBV = tw.get_technical_index(\"OBV\", close, open_, high, low, volume)\n",
    "OBV_EMA = tw.get_均線(\"EMA\", OBV, 144)\n",
    "PLUS_DI = tw.get_technical_index(\"PLUS_DI\", close, open_, high, low, volume)\n",
    "MINUS_DI = tw.get_technical_index(\"MINUS_DI\", close, open_, high, low, volume)\n",
    "ADX = tw.get_technical_index(\"ADX\", close, open_, high, low, volume)"
   ]
  },
  {
   "cell_type": "code",
   "execution_count": null,
   "id": "7999cf02",
   "metadata": {},
   "outputs": [],
   "source": []
  },
  {
   "cell_type": "code",
   "execution_count": null,
   "id": "8923bb2f",
   "metadata": {},
   "outputs": [],
   "source": []
  }
 ],
 "metadata": {
  "kernelspec": {
   "display_name": "base",
   "language": "python",
   "name": "python3"
  },
  "language_info": {
   "codemirror_mode": {
    "name": "ipython",
    "version": 3
   },
   "file_extension": ".py",
   "mimetype": "text/x-python",
   "name": "python",
   "nbconvert_exporter": "python",
   "pygments_lexer": "ipython3",
   "version": "3.8.5"
  }
 },
 "nbformat": 4,
 "nbformat_minor": 5
}
